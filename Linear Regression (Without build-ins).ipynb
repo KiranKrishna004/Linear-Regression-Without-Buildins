{
 "cells": [
  {
   "cell_type": "code",
   "execution_count": 1,
   "id": "0707cd5d",
   "metadata": {},
   "outputs": [],
   "source": [
    "import torch \n",
    "import numpy as np"
   ]
  },
  {
   "cell_type": "code",
   "execution_count": 2,
   "id": "1677481d",
   "metadata": {},
   "outputs": [],
   "source": [
    "# Input(temp,rainnfall,humidity)\n",
    "inputs= np.array([[73, 67, 43], \n",
    "                   [91, 88, 64], \n",
    "                   [87, 134, 58], \n",
    "                   [102, 43, 37], \n",
    "                   [69, 96, 70]],dtype='float32')"
   ]
  },
  {
   "cell_type": "code",
   "execution_count": 3,
   "id": "610f7de6",
   "metadata": {},
   "outputs": [],
   "source": [
    "#Targest(apples, oranges)\n",
    "targets=np.array([[56, 70], \n",
    "                    [81, 101], \n",
    "                    [119, 133], \n",
    "                    [22, 37], \n",
    "                    [103, 119]],dtype='float32')"
   ]
  },
  {
   "cell_type": "code",
   "execution_count": 4,
   "id": "4dee06de",
   "metadata": {},
   "outputs": [
    {
     "name": "stdout",
     "output_type": "stream",
     "text": [
      "tensor([[ 56.,  70.],\n",
      "        [ 81., 101.],\n",
      "        [119., 133.],\n",
      "        [ 22.,  37.],\n",
      "        [103., 119.]])\n",
      "tensor([[ 73.,  67.,  43.],\n",
      "        [ 91.,  88.,  64.],\n",
      "        [ 87., 134.,  58.],\n",
      "        [102.,  43.,  37.],\n",
      "        [ 69.,  96.,  70.]])\n"
     ]
    }
   ],
   "source": [
    "# Numpy array to tensors\n",
    "targets=torch.from_numpy(targets)\n",
    "inputs=torch.from_numpy(inputs)\n",
    "print(targets)\n",
    "print(inputs)"
   ]
  },
  {
   "cell_type": "code",
   "execution_count": 5,
   "id": "d101171d",
   "metadata": {},
   "outputs": [
    {
     "name": "stdout",
     "output_type": "stream",
     "text": [
      "tensor([-0.8734,  0.9244], requires_grad=True)\n",
      "tensor([[-0.8011, -0.4610, -0.1354],\n",
      "        [-1.1801, -0.1219, -1.7094]], requires_grad=True)\n"
     ]
    }
   ],
   "source": [
    "#Creating random Weights and Biases\n",
    "w=torch.randn(2,3,requires_grad=True)\n",
    "b=torch.randn(2,requires_grad=True)\n",
    "print(b)\n",
    "print(w)"
   ]
  },
  {
   "cell_type": "code",
   "execution_count": 6,
   "id": "0a5685cd",
   "metadata": {},
   "outputs": [],
   "source": [
    "#Define the Model\n",
    "def model(x):\n",
    "    return x@w.t()+b"
   ]
  },
  {
   "cell_type": "code",
   "execution_count": 7,
   "id": "8387f278",
   "metadata": {},
   "outputs": [
    {
     "name": "stdout",
     "output_type": "stream",
     "text": [
      "tensor([[ -96.0614, -166.8889],\n",
      "        [-123.0051, -226.5865],\n",
      "        [-140.1948, -217.2155],\n",
      "        [-107.4161, -187.9297],\n",
      "        [-109.8818, -211.8563]], grad_fn=<AddBackward0>)\n"
     ]
    }
   ],
   "source": [
    "#Generate predictions\n",
    "pre=model(inputs)\n",
    "print(pre)"
   ]
  },
  {
   "cell_type": "code",
   "execution_count": 8,
   "id": "fb74f97f",
   "metadata": {},
   "outputs": [],
   "source": [
    "#Create Loss function (MSE loss)\n",
    "def mse(t1,t2):\n",
    "    diff=t1-t2\n",
    "    return torch.sum(diff*diff)/diff.numel()"
   ]
  },
  {
   "cell_type": "code",
   "execution_count": 9,
   "id": "94b9344f",
   "metadata": {},
   "outputs": [],
   "source": [
    "#Train the model with epochs\n",
    "for i in range(750):\n",
    "    pre=model(inputs)\n",
    "    loss=mse(pre,targets)\n",
    "    loss.backward()\n",
    "    with torch.no_grad():\n",
    "        w-=w.grad*1e-5\n",
    "        b-=b.grad*1e-5\n",
    "        w.grad.zero_()\n",
    "        b.grad.zero_()"
   ]
  },
  {
   "cell_type": "code",
   "execution_count": 10,
   "id": "d401aaed",
   "metadata": {},
   "outputs": [
    {
     "name": "stdout",
     "output_type": "stream",
     "text": [
      "tensor(40.5915, grad_fn=<DivBackward0>)\n"
     ]
    }
   ],
   "source": [
    "pre=model(inputs)\n",
    "loss=mse(pre,targets)\n",
    "print(loss)"
   ]
  },
  {
   "cell_type": "code",
   "execution_count": 11,
   "id": "d457b138",
   "metadata": {},
   "outputs": [
    {
     "data": {
      "text/plain": [
       "tensor([[ 57.1400,  71.2257],\n",
       "        [ 81.6683,  94.2908],\n",
       "        [119.9557, 145.9965],\n",
       "        [ 21.7248,  40.7204],\n",
       "        [100.4372, 106.0638]], grad_fn=<AddBackward0>)"
      ]
     },
     "execution_count": 11,
     "metadata": {},
     "output_type": "execute_result"
    }
   ],
   "source": [
    "#Predictions\n",
    "pre"
   ]
  },
  {
   "cell_type": "code",
   "execution_count": 12,
   "id": "82bda073",
   "metadata": {},
   "outputs": [
    {
     "data": {
      "text/plain": [
       "tensor([[ 56.,  70.],\n",
       "        [ 81., 101.],\n",
       "        [119., 133.],\n",
       "        [ 22.,  37.],\n",
       "        [103., 119.]])"
      ]
     },
     "execution_count": 12,
     "metadata": {},
     "output_type": "execute_result"
    }
   ],
   "source": [
    "#Actual Value\n",
    "targets"
   ]
  }
 ],
 "metadata": {
  "kernelspec": {
   "display_name": "Python 3",
   "language": "python",
   "name": "python3"
  },
  "language_info": {
   "codemirror_mode": {
    "name": "ipython",
    "version": 3
   },
   "file_extension": ".py",
   "mimetype": "text/x-python",
   "name": "python",
   "nbconvert_exporter": "python",
   "pygments_lexer": "ipython3",
   "version": "3.8.8"
  }
 },
 "nbformat": 4,
 "nbformat_minor": 5
}
